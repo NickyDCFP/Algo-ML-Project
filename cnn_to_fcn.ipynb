{
 "cells": [
  {
   "cell_type": "code",
   "execution_count": 8,
   "metadata": {},
   "outputs": [],
   "source": [
    "from keras.models import load_model, Sequential\n",
    "from keras.layers import Conv2D, Input\n",
    "from keras.layers import LocallyConnected2D\n",
    "from keras.optimizers import Adam\n",
    "import numpy as np"
   ]
  },
  {
   "cell_type": "code",
   "execution_count": 9,
   "metadata": {},
   "outputs": [],
   "source": [
    "def cnn_layer_to_fcn_layer(cnn_layer):\n",
    "    conv_weights, conv_biases = cnn_layer.get_weights()\n",
    "    layer_config = cnn_layer.get_config()\n",
    "    fcn_layer = LocallyConnected2D(\n",
    "        filters=layer_config['filters'],\n",
    "        kernel_size=layer_config['kernel_size'],\n",
    "        strides=layer_config['strides'],\n",
    "        padding=layer_config['padding'], \n",
    "        activation=layer_config['activation']\n",
    "    )\n",
    "    output_shape = cnn_layer.output_shape\n",
    "    input_shape = cnn_layer.input_shape\n",
    "    fcn_weights = np.empty(\n",
    "        (\n",
    "            output_shape[1] * output_shape[2],\n",
    "            input_shape[3] * layer_config['kernel_size'][0] * layer_config['kernel_size'][1],\n",
    "            layer_config['filters']\n",
    "        )\n",
    "    )\n",
    "    fcn_biases = np.empty(\n",
    "        (\n",
    "            output_shape[1],\n",
    "            output_shape[2],\n",
    "            layer_config['filters']\n",
    "        )\n",
    "    )\n",
    "    for i in range(fcn_weights.shape[0]):\n",
    "        fcn_weights[i,:,:] = conv_weights.reshape((fcn_weights.shape[1],fcn_weights.shape[2]))\n",
    "    for i in range(fcn_biases.shape[0]):\n",
    "        for j in range(fcn_biases.shape[1]):\n",
    "            fcn_biases[i,j,:] = conv_biases\n",
    "    return fcn_layer, [fcn_weights, fcn_biases]"
   ]
  },
  {
   "cell_type": "code",
   "execution_count": 10,
   "metadata": {},
   "outputs": [],
   "source": [
    "CNN_FILENAME = \"SavedModels/model.h5\""
   ]
  },
  {
   "cell_type": "code",
   "execution_count": 11,
   "metadata": {},
   "outputs": [
    {
     "name": "stdout",
     "output_type": "stream",
     "text": [
      "Model: \"sequential\"\n",
      "_________________________________________________________________\n",
      " Layer (type)                Output Shape              Param #   \n",
      "=================================================================\n",
      " conv2d (Conv2D)             (None, 14, 14, 64)        4864      \n",
      "                                                                 \n",
      " conv2d_1 (Conv2D)           (None, 5, 5, 128)         204928    \n",
      "                                                                 \n",
      " conv2d_2 (Conv2D)           (None, 3, 3, 256)         295168    \n",
      "                                                                 \n",
      " flatten (Flatten)           (None, 2304)              0         \n",
      "                                                                 \n",
      " dense (Dense)               (None, 1024)              2360320   \n",
      "                                                                 \n",
      " dense_1 (Dense)             (None, 10)                10250     \n",
      "                                                                 \n",
      "=================================================================\n",
      "Total params: 2,875,530\n",
      "Trainable params: 2,875,530\n",
      "Non-trainable params: 0\n",
      "_________________________________________________________________\n"
     ]
    }
   ],
   "source": [
    "pretrained_cnn = load_model(CNN_FILENAME)\n",
    "pretrained_cnn.summary()"
   ]
  },
  {
   "cell_type": "code",
   "execution_count": 12,
   "metadata": {},
   "outputs": [
    {
     "name": "stdout",
     "output_type": "stream",
     "text": [
      "Model: \"sequential_1\"\n",
      "_________________________________________________________________\n",
      " Layer (type)                Output Shape              Param #   \n",
      "=================================================================\n",
      " locally_connected2d_3 (Loca  (None, 14, 14, 64)       953344    \n",
      " llyConnected2D)                                                 \n",
      "                                                                 \n",
      " locally_connected2d_4 (Loca  (None, 5, 5, 128)        5123200   \n",
      " llyConnected2D)                                                 \n",
      "                                                                 \n",
      " locally_connected2d_5 (Loca  (None, 3, 3, 256)        2656512   \n",
      " llyConnected2D)                                                 \n",
      "                                                                 \n",
      " flatten (Flatten)           (None, 2304)              0         \n",
      "                                                                 \n",
      " dense (Dense)               (None, 1024)              2360320   \n",
      "                                                                 \n",
      " dense_1 (Dense)             (None, 10)                10250     \n",
      "                                                                 \n",
      "=================================================================\n",
      "Total params: 11,103,626\n",
      "Trainable params: 11,103,626\n",
      "Non-trainable params: 0\n",
      "_________________________________________________________________\n"
     ]
    }
   ],
   "source": [
    "fcn = Sequential()\n",
    "fcn.add(Input(shape=(32, 32, 3)))\n",
    "for layer in pretrained_cnn.layers:\n",
    "    if isinstance(layer, Conv2D):\n",
    "        new_layer, fcn_weights_biases = cnn_layer_to_fcn_layer(layer)\n",
    "        fcn.add(new_layer)\n",
    "        new_layer.set_weights(fcn_weights_biases)\n",
    "    else:\n",
    "        fcn.add(layer)\n",
    "fcn.build()\n",
    "original_optimizer = pretrained_cnn.optimizer\n",
    "fcn.compile(\n",
    "    type(original_optimizer).from_config(original_optimizer.get_config()),\n",
    "    pretrained_cnn.loss,\n",
    "    metrics=['accuracy']\n",
    ")\n",
    "fcn.summary()\n"
   ]
  },
  {
   "cell_type": "code",
   "execution_count": 13,
   "metadata": {},
   "outputs": [],
   "source": [
    "fcn.save('SavedModels/fcn.h5')"
   ]
  }
 ],
 "metadata": {
  "kernelspec": {
   "display_name": "Python 3",
   "language": "python",
   "name": "python3"
  },
  "language_info": {
   "codemirror_mode": {
    "name": "ipython",
    "version": 3
   },
   "file_extension": ".py",
   "mimetype": "text/x-python",
   "name": "python",
   "nbconvert_exporter": "python",
   "pygments_lexer": "ipython3",
   "version": "3.10.9"
  }
 },
 "nbformat": 4,
 "nbformat_minor": 2
}
